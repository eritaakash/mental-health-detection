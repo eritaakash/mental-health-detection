{
 "cells": [
  {
   "cell_type": "code",
   "execution_count": 1,
   "metadata": {},
   "outputs": [],
   "source": [
    "import pandas as pd \n",
    "import numpy as np"
   ]
  },
  {
   "cell_type": "code",
   "execution_count": 2,
   "metadata": {},
   "outputs": [],
   "source": [
    "df = pd.read_csv('../data/mental_health.csv')"
   ]
  },
  {
   "cell_type": "code",
   "execution_count": 3,
   "metadata": {},
   "outputs": [
    {
     "data": {
      "text/plain": [
       "(53043, 3)"
      ]
     },
     "execution_count": 3,
     "metadata": {},
     "output_type": "execute_result"
    }
   ],
   "source": [
    "df.shape"
   ]
  },
  {
   "cell_type": "code",
   "execution_count": 4,
   "metadata": {},
   "outputs": [
    {
     "data": {
      "text/html": [
       "<div>\n",
       "<style scoped>\n",
       "    .dataframe tbody tr th:only-of-type {\n",
       "        vertical-align: middle;\n",
       "    }\n",
       "\n",
       "    .dataframe tbody tr th {\n",
       "        vertical-align: top;\n",
       "    }\n",
       "\n",
       "    .dataframe thead th {\n",
       "        text-align: right;\n",
       "    }\n",
       "</style>\n",
       "<table border=\"1\" class=\"dataframe\">\n",
       "  <thead>\n",
       "    <tr style=\"text-align: right;\">\n",
       "      <th></th>\n",
       "      <th>Unnamed: 0</th>\n",
       "      <th>statement</th>\n",
       "      <th>status</th>\n",
       "    </tr>\n",
       "  </thead>\n",
       "  <tbody>\n",
       "    <tr>\n",
       "      <th>0</th>\n",
       "      <td>0</td>\n",
       "      <td>oh my gosh</td>\n",
       "      <td>Anxiety</td>\n",
       "    </tr>\n",
       "    <tr>\n",
       "      <th>1</th>\n",
       "      <td>1</td>\n",
       "      <td>trouble sleeping, confused mind, restless hear...</td>\n",
       "      <td>Anxiety</td>\n",
       "    </tr>\n",
       "    <tr>\n",
       "      <th>2</th>\n",
       "      <td>2</td>\n",
       "      <td>All wrong, back off dear, forward doubt. Stay ...</td>\n",
       "      <td>Anxiety</td>\n",
       "    </tr>\n",
       "    <tr>\n",
       "      <th>3</th>\n",
       "      <td>3</td>\n",
       "      <td>I've shifted my focus to something else but I'...</td>\n",
       "      <td>Anxiety</td>\n",
       "    </tr>\n",
       "    <tr>\n",
       "      <th>4</th>\n",
       "      <td>4</td>\n",
       "      <td>I'm restless and restless, it's been a month n...</td>\n",
       "      <td>Anxiety</td>\n",
       "    </tr>\n",
       "  </tbody>\n",
       "</table>\n",
       "</div>"
      ],
      "text/plain": [
       "   Unnamed: 0                                          statement   status\n",
       "0           0                                         oh my gosh  Anxiety\n",
       "1           1  trouble sleeping, confused mind, restless hear...  Anxiety\n",
       "2           2  All wrong, back off dear, forward doubt. Stay ...  Anxiety\n",
       "3           3  I've shifted my focus to something else but I'...  Anxiety\n",
       "4           4  I'm restless and restless, it's been a month n...  Anxiety"
      ]
     },
     "execution_count": 4,
     "metadata": {},
     "output_type": "execute_result"
    }
   ],
   "source": [
    "df.head()"
   ]
  },
  {
   "cell_type": "code",
   "execution_count": 5,
   "metadata": {},
   "outputs": [],
   "source": [
    "df.drop('Unnamed: 0', axis=1, inplace=True)"
   ]
  },
  {
   "cell_type": "markdown",
   "metadata": {},
   "source": [
    "## EDA & Preprocessing"
   ]
  },
  {
   "cell_type": "code",
   "execution_count": 6,
   "metadata": {},
   "outputs": [
    {
     "data": {
      "text/plain": [
       "statement    362\n",
       "status         0\n",
       "dtype: int64"
      ]
     },
     "execution_count": 6,
     "metadata": {},
     "output_type": "execute_result"
    }
   ],
   "source": [
    "# Check for missing values\n",
    "df.isnull().sum()"
   ]
  },
  {
   "cell_type": "code",
   "execution_count": 7,
   "metadata": {},
   "outputs": [],
   "source": [
    "df.dropna(inplace=True)"
   ]
  },
  {
   "cell_type": "code",
   "execution_count": 8,
   "metadata": {},
   "outputs": [
    {
     "data": {
      "text/plain": [
       "(52681, 2)"
      ]
     },
     "execution_count": 8,
     "metadata": {},
     "output_type": "execute_result"
    }
   ],
   "source": [
    "df.shape"
   ]
  },
  {
   "cell_type": "code",
   "execution_count": 9,
   "metadata": {},
   "outputs": [],
   "source": [
    "import matplotlib.pyplot as plt\n",
    "import seaborn as sns"
   ]
  },
  {
   "cell_type": "markdown",
   "metadata": {},
   "source": [
    "### Explaining the statuses:\n",
    "\n",
    "1. **Normal**: The person is mentally healthy.\n",
    "2. **Depression**: The person is suffering from depression.\n",
    "3. **Suicidal**: The person is having suicidal thoughts.\n",
    "4. **Anxiety**: The person is suffering from anxiety.\n",
    "5. **Bipolar**: The person is suffering from bipolar disorder.\n",
    "6. **Stress**: The person is under stress.\n",
    "7. **Personality Disorder**: The person is suffering from a personality disorder."
   ]
  },
  {
   "cell_type": "code",
   "execution_count": 10,
   "metadata": {},
   "outputs": [
    {
     "data": {
      "image/png": "[encoded data removed]",
      "text/plain": [
       "<Figure size 1000x600 with 1 Axes>"
      ]
     },
     "metadata": {},
     "output_type": "display_data"
    }
   ],
   "source": [
    "status_count = df['status'].value_counts()\n",
    "\n",
    "plt.figure(figsize=(10,6))\n",
    "sns.barplot(x=status_count.index, y=status_count.values)\n",
    "plt.title('Status Count')\n",
    "\n",
    "plt.ylabel('Number of Occurrences', fontsize=12)\n",
    "plt.xlabel('Status', fontsize=12)\n",
    "\n",
    "plt.show()"
   ]
  },
  {
   "cell_type": "code",
   "execution_count": 11,
   "metadata": {},
   "outputs": [
    {
     "data": {
      "text/plain": [
       "status\n",
       "Normal                  16343\n",
       "Depression              15404\n",
       "Suicidal                10652\n",
       "Anxiety                  3841\n",
       "Bipolar                  2777\n",
       "Stress                   2587\n",
       "Personality disorder     1077\n",
       "Name: count, dtype: int64"
      ]
     },
     "execution_count": 11,
     "metadata": {},
     "output_type": "execute_result"
    }
   ],
   "source": [
    "status_count"
   ]
  },
  {
   "cell_type": "code",
   "execution_count": 12,
   "metadata": {},
   "outputs": [
    {
     "name": "stdout",
     "output_type": "stream",
     "text": [
      "combined_sentiment\n",
      "Normal        16343\n",
      "Depression    15404\n",
      "Suicidal      10652\n",
      "Disorder      10282\n",
      "Name: count, dtype: int64\n"
     ]
    }
   ],
   "source": [
    "class_mapping = {\n",
    "    'Normal': 'Normal',\n",
    "    'Depression': 'Depression',\n",
    "    'Suicidal': 'Suicidal',\n",
    "    'Anxiety': 'Disorder',\n",
    "    'Bipolar': 'Disorder',\n",
    "    'Stress': 'Disorder',\n",
    "    'Personality disorder': 'Disorder',\n",
    "}\n",
    "\n",
    "# Apply the mapping to the 'sentiment' column in your DataFrame\n",
    "df['combined_sentiment'] = df['status'].map(class_mapping)\n",
    "\n",
    "# Check the value counts after combining classes\n",
    "print(df['combined_sentiment'].value_counts())"
   ]
  },
  {
   "cell_type": "code",
   "execution_count": 13,
   "metadata": {},
   "outputs": [],
   "source": [
    "df.drop(columns=['status'], inplace=True)"
   ]
  },
  {
   "cell_type": "code",
   "execution_count": 14,
   "metadata": {},
   "outputs": [],
   "source": [
    "df = df.rename(columns={'combined_sentiment': 'sentiment'})"
   ]
  },
  {
   "cell_type": "code",
   "execution_count": 15,
   "metadata": {},
   "outputs": [
    {
     "data": {
      "text/plain": [
       "array(['Disorder', 'Normal', 'Depression', 'Suicidal'], dtype=object)"
      ]
     },
     "execution_count": 15,
     "metadata": {},
     "output_type": "execute_result"
    }
   ],
   "source": [
    "df['sentiment'].unique()"
   ]
  },
  {
   "cell_type": "code",
   "execution_count": 16,
   "metadata": {},
   "outputs": [],
   "source": [
    "def map_sentiment(sentiment):\n",
    "    if sentiment == 'Normal':\n",
    "        return 0\n",
    "    elif sentiment == 'Depression':\n",
    "        return 1\n",
    "    elif sentiment == 'Disorder':\n",
    "        return 2\n",
    "    else:\n",
    "        return 3\n",
    "    \n",
    "df['sentiment'] = df['sentiment'].apply(map_sentiment)"
   ]
  },
  {
   "cell_type": "code",
   "execution_count": 17,
   "metadata": {},
   "outputs": [],
   "source": [
    "df['word_count'] = df['statement'].apply(lambda x: len(x.split()))"
   ]
  },
  {
   "cell_type": "code",
   "execution_count": 18,
   "metadata": {},
   "outputs": [
    {
     "data": {
      "image/png": "[encoded data removed]",
      "text/plain": [
       "<Figure size 1000x600 with 1 Axes>"
      ]
     },
     "metadata": {},
     "output_type": "display_data"
    }
   ],
   "source": [
    "word_counts = df['word_count'].value_counts()\n",
    "\n",
    "min_word_count = word_counts.index.min()\n",
    "max_word_count = word_counts.index.max()\n",
    "\n",
    "plt.figure(figsize=(10,6))\n",
    "sns.barplot(x=word_counts.index, y=word_counts.values)\n",
    "\n",
    "plt.title('Word Count Frequency')\n",
    "plt.ylabel('Number of Occurrences', fontsize=12)\n",
    "\n",
    "plt.xlabel('Word Count', fontsize=12)\n",
    "plt.show()"
   ]
  },
  {
   "cell_type": "code",
   "execution_count": 19,
   "metadata": {},
   "outputs": [
    {
     "data": {
      "text/plain": [
       "(1, 6300)"
      ]
     },
     "execution_count": 19,
     "metadata": {},
     "output_type": "execute_result"
    }
   ],
   "source": [
    "min_word_count, max_word_count"
   ]
  },
  {
   "cell_type": "code",
   "execution_count": 20,
   "metadata": {},
   "outputs": [],
   "source": [
    "lower_lim = 3\n",
    "upper_lim = 300\n",
    "\n",
    "df['statement'] = df['statement'].apply(lambda x: x if len(x.split()) > lower_lim and len(x.split()) < upper_lim else None)\n",
    "df.dropna(inplace=True)"
   ]
  },
  {
   "cell_type": "code",
   "execution_count": 21,
   "metadata": {},
   "outputs": [
    {
     "data": {
      "image/png": "[encoded data removed]",
      "text/plain": [
       "<Figure size 1000x600 with 1 Axes>"
      ]
     },
     "metadata": {},
     "output_type": "display_data"
    }
   ],
   "source": [
    "status_count = df['sentiment'].value_counts()\n",
    "\n",
    "plt.figure(figsize=(10,6))\n",
    "sns.barplot(x=status_count.index, y=status_count.values)\n",
    "plt.title('Status Count')\n",
    "\n",
    "plt.ylabel('Number of Occurrences', fontsize=12)\n",
    "plt.xlabel('Status', fontsize=12)\n",
    "\n",
    "plt.show()"
   ]
  },
  {
   "cell_type": "code",
   "execution_count": 22,
   "metadata": {},
   "outputs": [
    {
     "data": {
      "text/plain": [
       "sentiment\n",
       "0    14645\n",
       "1    13095\n",
       "3     9379\n",
       "2     9119\n",
       "Name: count, dtype: int64"
      ]
     },
     "execution_count": 22,
     "metadata": {},
     "output_type": "execute_result"
    }
   ],
   "source": [
    "status_count"
   ]
  },
  {
   "cell_type": "code",
   "execution_count": 23,
   "metadata": {},
   "outputs": [],
   "source": [
    "df.drop(columns=['word_count'], inplace=True)"
   ]
  },
  {
   "cell_type": "code",
   "execution_count": 24,
   "metadata": {},
   "outputs": [],
   "source": [
    "df.to_csv('../data/mental_health_processed.csv', index=False)"
   ]
  },
  {
   "cell_type": "code",
   "execution_count": 27,
   "metadata": {},
   "outputs": [
    {
     "name": "stdout",
     "output_type": "stream",
     "text": [
      "Normal:\n",
      "my waist is bigger than it was.\n",
      "\n",
      "can we go home ok \n",
      "\n",
      "Why is this Shane Filan the older he gets, the tighter he gets.\n",
      "\n",
      "i wish i was free that night. i'm kind of mad that i didn't go.\n",
      "\n",
      "Lm Want to eat messy bio that can be qris\n",
      "\n"
     ]
    }
   ],
   "source": [
    "# print 5 statements from each class\n",
    "\n",
    "normal = df[df['sentiment'] == 0]['statement'].sample(5).values\n",
    "depression = df[df['sentiment'] == 1]['statement'].sample(5).values\n",
    "disorder = df[df['sentiment'] == 2]['statement'].sample(5).values\n",
    "suicidal = df[df['sentiment'] == 3]['statement'].sample(5).values  \n",
    "\n",
    "print('Normal:')\n",
    "for statement in normal:\n",
    "    print(statement)\n",
    "    print()"
   ]
  },
  {
   "cell_type": "code",
   "execution_count": 28,
   "metadata": {},
   "outputs": [
    {
     "name": "stdout",
     "output_type": "stream",
     "text": [
      "Depression:\n",
      "So, this happened some years ago. When I was about 5, we had a small doggy may be less than 7 months old. Well, she got sick and me being just a kid did not have much saying on what needs to be done and it was my first experience with a sick animal so I did not even know what to do, I was scared and did not want to lose her. Just thought grown-ups will make everything right.She did not make it as fever reached her brain, back then I did not know what that means. Now, 14 years later I have been remembering her for a little over a month. How I could have saved her if I nagged my parents even more, might have admitted her to a better vet hospital. She could have been with us now.Idk I kind of want to end stuff, I could not save her. She was just a pup. Been crying since a month\n",
      "\n",
      "Why? I am literally in hell everyday. Why should I keep having to live this way? Its fucking exhausting. I am just done. Why do I have to keep going on, if I am miserable?\n",
      "\n",
      "Just to adress this: I have not been diagnosed with any mental illness. Though I have been showing major indicators of depression and anxiety disorder since quite a few years.I came here because lately I have been feeling very prone to hurting myself. I have cut myself before, the last time is maybe a month ago. I do not have very strong urges or motivation to hurt myself, I just occasionally think about it. That is usually when my feelings have been \"gone\" for a while and it feels utterly terrible to exist. But a few times now lately when I have thought about it it has been really really bad and its scaring me. It feels as if my brain is taking over and telling me to just do it finally. As if I needed it.I do not have huge issues with selfharming, I am not in great danger of hurting myself. Currently its just that these bad thoughts come to me and I hate them. Usually I can overcome them when playing videogames with my friends, so that is good.But does anyone have advice on how to actively fight against those thoughts? Or just ways that might help me with reducing or bettering those thoughts? Thoughts about selfharm, How do I cope with it?\n",
      "\n",
      "How do I get over the fact that I will never experience love in any capacity? Is it my fault for being sad that people do not love me or am I genuinely just that undeserving of life and love how do I get over this\n",
      "\n",
      "When you are outwardly chipper and the folks around you do not know or would not understand what you are dealing with, It makes you feel even worse when you cannot talk to anyone about how long its been since you have bathed, brushed your teeth, or changed your bedsheets. And your apartment is so disgusting, you could never have anyone over. I can go to work although it is a challenge, but when I am not at work I am in my bed watching true crime shows and crushing candy on my phone. kind of sucks\n",
      "\n"
     ]
    }
   ],
   "source": [
    "print('Depression:')\n",
    "for statement in depression:\n",
    "    print(statement)\n",
    "    print()"
   ]
  },
  {
   "cell_type": "code",
   "execution_count": 29,
   "metadata": {},
   "outputs": [
    {
     "name": "stdout",
     "output_type": "stream",
     "text": [
      "Disorder:\n",
      "Feeling overwhelmed with work and life? Here's how to manage stress at work!  [https://movexstill.com/blog/how-to-manage-stress-at-work](https://movexstill.com/blog/how-to-manage-stress-at-work)\n",
      "\n",
      "I don’t wanna dieeeeeee I’m not dying but I’m scared I’m gonna get lung cancer lol kill me. \n",
      "\n",
      "My mom smokes and I’m fucking 16 and idk why I’m paranoid ab this now it’s just stupid.\n",
      "\n",
      "Been like this ever since fucking last year when I had a lump in my jawline. It turned out to be a swollen salvitory gland or something and basically nothing.\n",
      "\n",
      "My doctor told me it could be cause for concern when he felt it (fuck him) so we looked shit up and it caused me to be concerned lmao. \n",
      "\n",
      "It came back tho but I think this is just a swollen lymph node because I think I have bronchitis or the cold or something who knows but still I get overly paranoid especially after drinking coffee I prolly gonna have to quit it.\n",
      "\n",
      "Getting a psychiatrist referral in Australia Hey guys, \n",
      "\n",
      "I'm on the annoying wait for a psychiatrist appointment and it's only an analysis with not guarantee she will take me as a patient. \n",
      "\n",
      "The positive to it is that she comes highly recommended from a GP who previously worked with her at a mental health facility, and the three months might go quickly and of course the chances are she will take me on.\n",
      "\n",
      "However, I am still considering looking for a faster route if possible.\n",
      "\n",
      "In regards to private health insurance, I have top Bupa cover but know its limitation for these services.\n",
      "\n",
      "Saw a new psychiatrist, and I am livid First, sorry for formatting. I’m on mobile. \n",
      "\n",
      "So today I went and saw a new doctor, because I felt my last one wasn’t listening to what I was saying, and I left there feeling worse than when when I went in. I told her as much of my history as I could remember. Answered honestly all the questionnaires she handed me, told her about my trip to the hospital, even my recreational drug use. \n",
      "\n",
      "At the end she pretty much told me she didn’t believe me. She asked that when I see her again to bring in a family member so she can verify my behavior in the past. I wouldn’t mind that IF 1) I hadn’t been on different medications for over 6 years 2) if I hadn’t been diagnosed for over 4 years by 2 different doctors. She then took my regular prescription and said to take 1/3 of what I was taking, and no mood stabilizer. \n",
      "\n",
      "I can see if she was suspicious if I came in looking for harder medication, but she doesn’t even prescribe any of that! I don’t understand why she would completely invalidate my past history. I’m sorry this is so long I’m just in complete disbelief. \n",
      "\n",
      "Tambel ramble For over a week I've wanted to post or talk to someone, but every time I've tried I haven't been able to put forth the energy.\n",
      "\n",
      "It's almost been a year since we lost our son (late miscarriag) and I've been a complete mess this month.  I started skipping sleep, over eating, and probably on purpose induced a hypomanic episode.   \n",
      "\n",
      "Now I've spent nearly 4k in credit that we can't pay back.  I had started mildly hallucinating, picking fights with everyone bit especially my SO and am worried I damaged that...over all just being a complete idiot.  \n",
      "\n",
      "Today, I'm coming down, I guess, and the depression is hitting hard.  The worse part is, I never did feel any better, just able to hide it more easily.  I miss my son, I feel alone, I'd kill myself but I don't really see the point of that either.\n",
      "\n",
      "Don't worry about commenting back.  Just wanted to say this stuff. \n",
      "\n"
     ]
    }
   ],
   "source": [
    "print('Disorder:')\n",
    "for statement in disorder:\n",
    "    print(statement)\n",
    "    print()"
   ]
  },
  {
   "cell_type": "code",
   "execution_count": 30,
   "metadata": {},
   "outputs": [
    {
     "name": "stdout",
     "output_type": "stream",
     "text": [
      "Suicidal:\n",
      "Idk where else to post this, but this is something I have been thinking about a bit. And I do not mean this post in a gate keeping or judging way. I deep down always kind of suspect that suicide attempts where people take a big amount of a pill but do not take anything to prevent throwing up are more of a cry for help thing just like cutting yourself superficial, so there will not be any scars but some blood and crust to show. People see someone on tv or wherever doing it and recognize that these kind of actions/tropes communicateIm desperate/I need help and then replicate them to communicate this message to their environment. I think this kind of blurs the line between really suicidal people/people who harm themselves as symptoms of an mental illness and the ones who are just asking for help. Suicide as an ask for help\n",
      "\n",
      "Fuck living man, it is constant struggle, people even your own family putting you down. Zero trust in their own son. it is hard to get a job in these scenarios and I have been trying for months on end and it does not work. I have been depressed because of a lot of rejections and my family keeps blaming and accusing me of being worthless.it is past the tipping point and my mental health is down the gutter. Is living even worth it? There is no place in this world for me. Might as well just die than be a waste of space.\n",
      "\n",
      "I spend most of my time thinking about the question weither or not life is worth all the stress and pain and at this point only two things make me want to live, my friends, who I do not want to miss me, and the fact that I am too scared to die. By that I do not mean that I am scared of the afterlife or so because I do not really believe in it. I am just scared of the last hours, last minutes or only the last seconds before it happens and all the fear and pain I would feel. But if life is worth all the pain for so many people then maybe eternal rest is worth a few painful seconds too. Is life worth it?\n",
      "\n",
      "No matter what I try to do, to be a good person, to belong, to be a warm friend, nothing works and I always fuck it up. I do not fit in anywhere, I constantly make people uncomfortable, and I am really starting to wonder if my existence is harming people. Even yesterday when I tried to be a good person and fox a mistake, I royally fucked everything up. I am so done I do not understand anymore\n",
      "\n",
      "he is not going to come back and I am losing hope rapidly. i think it is time then. i did not plan this but i guess that is that realization\n",
      "\n"
     ]
    }
   ],
   "source": [
    "print('Suicidal:')\n",
    "for statement in suicidal:\n",
    "    print(statement)\n",
    "    print()"
   ]
  }
 ],
 "metadata": {
  "kernelspec": {
   "display_name": "Python 3",
   "language": "python",
   "name": "python3"
  },
  "language_info": {
   "codemirror_mode": {
    "name": "ipython",
    "version": 3
   },
   "file_extension": ".py",
   "mimetype": "text/x-python",
   "name": "python",
   "nbconvert_exporter": "python",
   "pygments_lexer": "ipython3",
   "version": "3.12.4"
  }
 },
 "nbformat": 4,
 "nbformat_minor": 2
}
