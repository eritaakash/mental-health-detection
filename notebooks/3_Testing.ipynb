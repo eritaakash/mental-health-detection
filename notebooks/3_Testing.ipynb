{
 "cells": [
  {
   "cell_type": "code",
   "execution_count": 2,
   "metadata": {},
   "outputs": [],
   "source": [
    "import joblib \n",
    "\n",
    "model = joblib.load('../out/mental_health_model.pkl')\n",
    "tfidf = joblib.load('../out/mental_health_tfidf.pkl')"
   ]
  },
  {
   "cell_type": "code",
   "execution_count": 3,
   "metadata": {},
   "outputs": [],
   "source": [
    "import string, nltk \n",
    "\n",
    "from nltk.corpus import stopwords\n",
    "from nltk.tokenize import word_tokenize\n",
    "\n",
    "from nltk.stem import WordNetLemmatizer\n",
    "from nltk.corpus import wordnet\n",
    "\n",
    "stop_words = set(stopwords.words('english'))\n",
    "lemmatizer = WordNetLemmatizer()\n",
    "\n",
    "def get_wordnet_pos(word):\n",
    "    tag = nltk.pos_tag([word])[0][1][0].upper()\n",
    "    tag_dict = {\"J\": wordnet.ADJ, \"N\": wordnet.NOUN, \"V\": wordnet.VERB, \"R\": wordnet.ADV}\n",
    "    return tag_dict.get(tag, wordnet.NOUN)\n",
    "\n",
    "def clean_text(text):\n",
    "    # 1. To lowercase\n",
    "    text = text.lower()\n",
    "\n",
    "    # 2. Remove punctuation\n",
    "    text = text.translate(str.maketrans('', '', string.punctuation))\n",
    "\n",
    "    # 3. Tokenize\n",
    "    tokens = word_tokenize(text)\n",
    "\n",
    "    # 4. Remove stopwords\n",
    "    tokens = [word for word in tokens if word not in stop_words]\n",
    "\n",
    "    # 5. Lemmatize\n",
    "    tokens = [lemmatizer.lemmatize(word, get_wordnet_pos(word)) for word in tokens]\n",
    "\n",
    "    return ' '.join(tokens)"
   ]
  },
  {
   "cell_type": "code",
   "execution_count": 4,
   "metadata": {},
   "outputs": [],
   "source": [
    "# Test model\n",
    "\n",
    "mapper = {\n",
    "    0: 'Normal',\n",
    "    1: 'Depression',\n",
    "    2: 'Disorder',\n",
    "    3: 'Suicidal'\n",
    "}\n",
    "\n",
    "def predict_sentiment(text):\n",
    "    text = clean_text(text)\n",
    "    text = tfidf.transform([text])\n",
    "    return mapper[model.predict(text)[0]]"
   ]
  },
  {
   "cell_type": "code",
   "execution_count": 20,
   "metadata": {},
   "outputs": [
    {
     "name": "stdout",
     "output_type": "stream",
     "text": [
      "Statement: Skibidiiiiiiihhhh\n",
      "Sentiment: Normal\n"
     ]
    }
   ],
   "source": [
    "statement = \"\"\"Skibidiiiiiiihhhh\"\"\"\n",
    "\n",
    "print(f'Statement: {statement}')\n",
    "\n",
    "sentiment = predict_sentiment(statement)\n",
    "\n",
    "print(f'Sentiment: {sentiment}')"
   ]
  }
 ],
 "metadata": {
  "kernelspec": {
   "display_name": "Python 3",
   "language": "python",
   "name": "python3"
  },
  "language_info": {
   "codemirror_mode": {
    "name": "ipython",
    "version": 3
   },
   "file_extension": ".py",
   "mimetype": "text/x-python",
   "name": "python",
   "nbconvert_exporter": "python",
   "pygments_lexer": "ipython3",
   "version": "3.12.4"
  }
 },
 "nbformat": 4,
 "nbformat_minor": 2
}
